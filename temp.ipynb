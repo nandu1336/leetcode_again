{
 "cells": [
  {
   "cell_type": "code",
   "execution_count": 2,
   "metadata": {},
   "outputs": [],
   "source": [
    "board = [[\"o\",\"a\",\"a\",\"n\"],[\"e\",\"t\",\"a\",\"e\"],[\"i\",\"h\",\"k\",\"r\"],[\"i\",\"f\",\"l\",\"v\"]]\n",
    "words = [\"oath\",\"pea\",\"eat\",\"rain\"]"
   ]
  },
  {
   "cell_type": "code",
   "execution_count": 3,
   "metadata": {},
   "outputs": [
    {
     "ename": "TypeError",
     "evalue": "traverse() takes 2 positional arguments but 3 were given",
     "output_type": "error",
     "traceback": [
      "\u001b[1;31m---------------------------------------------------------------------------\u001b[0m",
      "\u001b[1;31mTypeError\u001b[0m                                 Traceback (most recent call last)",
      "Input \u001b[1;32mIn [3]\u001b[0m, in \u001b[0;36m<cell line: 19>\u001b[1;34m()\u001b[0m\n\u001b[0;32m     20\u001b[0m \u001b[38;5;28;01mfor\u001b[39;00m j \u001b[38;5;129;01min\u001b[39;00m \u001b[38;5;28mrange\u001b[39m(COLS):\n\u001b[0;32m     22\u001b[0m     \u001b[38;5;28;01mif\u001b[39;00m board[i][j] \u001b[38;5;129;01min\u001b[39;00m first_letters:\n\u001b[1;32m---> 23\u001b[0m         \u001b[43mtraverse\u001b[49m\u001b[43m(\u001b[49m\u001b[43mboard\u001b[49m\u001b[43m,\u001b[49m\u001b[43m \u001b[49m\u001b[43mi\u001b[49m\u001b[43m,\u001b[49m\u001b[43m \u001b[49m\u001b[43mj\u001b[49m\u001b[43m)\u001b[49m\n",
      "\u001b[1;31mTypeError\u001b[0m: traverse() takes 2 positional arguments but 3 were given"
     ]
    }
   ],
   "source": [
    "first_letters = [\"o\"] #set([word[0] for word in words])\n",
    "\n",
    "ROWS, COLS = len(board), len(board[0])\n",
    "\n",
    "def traverse(baord, point):\n",
    "    \n",
    "    queue = [ point ]\n",
    "    strings = []\n",
    "    \n",
    "    while queue:\n",
    "        x, y = queue.pop(0)\n",
    "\n",
    "        for dx, dy in [(1, 0), (-1, 0), (0, 1), (0, -1)]:\n",
    "            x, y = i + dx, j + dy\n",
    "            \n",
    "            if x > -1 and x < ROWS and y > -1 and y < COLS: \n",
    "                pass \n",
    "\n",
    "for i in range(ROWS):\n",
    "    for j in range(COLS):\n",
    "\n",
    "        if board[i][j] in first_letters:\n",
    "            traverse(board, i, j)"
   ]
  },
  {
   "cell_type": "code",
   "execution_count": null,
   "metadata": {},
   "outputs": [
    {
     "data": {
      "text/plain": [
       "[['o', 'a', 'a', 'n'],\n",
       " ['e', 't', 'a', 'e'],\n",
       " ['i', 'h', 'k', 'r'],\n",
       " ['i', 'f', 'l', 'v']]"
      ]
     },
     "execution_count": 2,
     "metadata": {},
     "output_type": "execute_result"
    }
   ],
   "source": [
    "board"
   ]
  },
  {
   "cell_type": "code",
   "execution_count": 36,
   "metadata": {},
   "outputs": [],
   "source": [
    "def traverse(board, point):\n",
    "    ROWS, COLS = len(board), len(board[0])\n",
    "    x, y = point\n",
    "    possibilities = [\n",
    "        ((x, y), (1, 0)), \n",
    "        ((x, y), (-1, 0)), \n",
    "        ((x, y), (0, 1)), \n",
    "        ((x, y), (0, -1))\n",
    "    ]\n",
    "\n",
    "    def bfs(point, s=[], visited=set()):\n",
    "        x, y = point \n",
    "        s.append(board[x][y])\n",
    "        visited.add((x, y))\n",
    "        queue = [(x, y)]\n",
    "\n",
    "        while queue:\n",
    "            x, y = queue.pop(0)\n",
    "\n",
    "            for dx, dy in [ (0, 1), (0, -1), (1, 0), (-1, 0)]:\n",
    "                x += dx\n",
    "                y += dy\n",
    "                if x > -1 and x < ROWS and y > -1 and y < COLS and (x, y) not in visited:\n",
    "                    visited.add((x, y))\n",
    "                    s.append(board[x][y])\n",
    "                    queue.append((x, y ))\n",
    "                \n",
    "        return s \n",
    "    \n",
    "    res = bfs((0, 0))\n",
    "    return res\n",
    "        "
   ]
  },
  {
   "cell_type": "code",
   "execution_count": 37,
   "metadata": {},
   "outputs": [],
   "source": [
    "res = traverse(board, (0, 0))"
   ]
  },
  {
   "cell_type": "code",
   "execution_count": 38,
   "metadata": {},
   "outputs": [
    {
     "data": {
      "text/plain": [
       "['o',\n",
       " 'a',\n",
       " 'e',\n",
       " 'a',\n",
       " 't',\n",
       " 'i',\n",
       " 'n',\n",
       " 'a',\n",
       " 'h',\n",
       " 'i',\n",
       " 'e',\n",
       " 'k',\n",
       " 'f',\n",
       " 'r',\n",
       " 'l',\n",
       " 'v']"
      ]
     },
     "execution_count": 38,
     "metadata": {},
     "output_type": "execute_result"
    }
   ],
   "source": [
    "res"
   ]
  },
  {
   "cell_type": "code",
   "execution_count": 1,
   "metadata": {},
   "outputs": [],
   "source": [
    "a = (1, 2, 3)\n",
    "b = (1, 2, 3)"
   ]
  },
  {
   "cell_type": "code",
   "execution_count": 3,
   "metadata": {},
   "outputs": [
    {
     "name": "stdout",
     "output_type": "stream",
     "text": [
      "False\n"
     ]
    }
   ],
   "source": [
    "print(a is b)"
   ]
  },
  {
   "cell_type": "code",
   "execution_count": 1,
   "metadata": {},
   "outputs": [],
   "source": [
    "a = b = 10"
   ]
  },
  {
   "cell_type": "code",
   "execution_count": 7,
   "metadata": {},
   "outputs": [],
   "source": [
    "import heapq\n",
    "\n",
    "heap = []"
   ]
  },
  {
   "cell_type": "code",
   "execution_count": 13,
   "metadata": {},
   "outputs": [],
   "source": [
    "heapq.heappush(heap, (1, 1))"
   ]
  },
  {
   "cell_type": "code",
   "execution_count": 14,
   "metadata": {},
   "outputs": [
    {
     "data": {
      "text/plain": [
       "[(1, 1), (3, 1), (2, 2)]"
      ]
     },
     "execution_count": 14,
     "metadata": {},
     "output_type": "execute_result"
    }
   ],
   "source": [
    "heap"
   ]
  },
  {
   "cell_type": "code",
   "execution_count": 15,
   "metadata": {},
   "outputs": [
    {
     "data": {
      "text/plain": [
       "(1, 1)"
      ]
     },
     "execution_count": 15,
     "metadata": {},
     "output_type": "execute_result"
    }
   ],
   "source": [
    "heapq.heappop(heap)"
   ]
  },
  {
   "cell_type": "code",
   "execution_count": 32,
   "metadata": {},
   "outputs": [],
   "source": [
    "a = [1, 2, 3, 4]\n",
    "\n",
    "left = [1, 1, 2, 6]"
   ]
  },
  {
   "cell_type": "code",
   "execution_count": 47,
   "metadata": {},
   "outputs": [],
   "source": [
    "class Heap:\n",
    "    def __init__(self):\n",
    "        self.heap = []\n",
    "\n",
    "    def push(self, num: int) -> None:\n",
    "        heapq.heappush(self.heap, num)\n",
    "\n",
    "    def pop(self) -> int: \n",
    "        return heapq.heappop(self.heap)\n",
    "    \n",
    "    def __len__(self):\n",
    "        return len(self.heap)\n",
    "    \n",
    "heap = Heap()\n",
    "heap.push(9)\n",
    "heap.push(5)\n",
    "heap.push(0)\n",
    "heap.push(2)\n",
    "heap.push(7)\n"
   ]
  },
  {
   "cell_type": "code",
   "execution_count": 48,
   "metadata": {},
   "outputs": [
    {
     "data": {
      "text/plain": [
       "5"
      ]
     },
     "execution_count": 48,
     "metadata": {},
     "output_type": "execute_result"
    }
   ],
   "source": [
    "len(heap)"
   ]
  },
  {
   "cell_type": "code",
   "execution_count": 44,
   "metadata": {},
   "outputs": [
    {
     "data": {
      "text/plain": [
       "[24, 12, 8, 6]"
      ]
     },
     "execution_count": 44,
     "metadata": {},
     "output_type": "execute_result"
    }
   ],
   "source": [
    "left"
   ]
  },
  {
   "cell_type": "code",
   "execution_count": null,
   "metadata": {},
   "outputs": [],
   "source": []
  }
 ],
 "metadata": {
  "kernelspec": {
   "display_name": "base",
   "language": "python",
   "name": "python3"
  },
  "language_info": {
   "codemirror_mode": {
    "name": "ipython",
    "version": 3
   },
   "file_extension": ".py",
   "mimetype": "text/x-python",
   "name": "python",
   "nbconvert_exporter": "python",
   "pygments_lexer": "ipython3",
   "version": "3.9.12"
  }
 },
 "nbformat": 4,
 "nbformat_minor": 2
}

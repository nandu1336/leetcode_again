{
 "cells": [
  {
   "cell_type": "code",
   "execution_count": null,
   "metadata": {},
   "outputs": [],
   "source": [
    "from trie import Trie\n",
    "import json \n",
    "\n",
    "\n",
    "board = [[\"o\",\"a\",\"a\",\"n\"],[\"e\",\"t\",\"a\",\"e\"],[\"i\",\"h\",\"k\",\"r\"],[\"i\",\"f\",\"l\",\"v\"]]\n",
    "words = [\"oath\",\"pea\",\"eat\",\"rain\"]\n",
    "# board = [[\"o\",\"a\",\"b\",\"n\"],[\"o\",\"t\",\"a\",\"e\"],[\"a\",\"h\",\"k\",\"r\"],[\"a\",\"f\",\"l\",\"v\"]]\n",
    "# words = [\"oa\",\"oaa\"]\n",
    "\n",
    "# board = [[\"a\",\"b\",\"c\"],[\"a\",\"e\",\"d\"],[\"a\",\"f\",\"g\"]]\n",
    "# words = [\"eaafgdcba\",\"eaabcdgfa\"] \n",
    "# board = [[\"b\",\"a\",\"b\",\"a\",\"b\",\"a\",\"b\",\"a\",\"b\",\"a\"],[\"a\",\"b\",\"a\",\"b\",\"a\",\"b\",\"a\",\"b\",\"a\",\"b\"],[\"b\",\"a\",\"b\",\"a\",\"b\",\"a\",\"b\",\"a\",\"b\",\"a\"],[\"a\",\"b\",\"a\",\"b\",\"a\",\"b\",\"a\",\"b\",\"a\",\"b\"],[\"b\",\"a\",\"b\",\"a\",\"b\",\"a\",\"b\",\"a\",\"b\",\"a\"],[\"a\",\"b\",\"a\",\"b\",\"a\",\"b\",\"a\",\"b\",\"a\",\"b\"],[\"b\",\"a\",\"b\",\"a\",\"b\",\"a\",\"b\",\"a\",\"b\",\"a\"],[\"a\",\"b\",\"a\",\"b\",\"a\",\"b\",\"a\",\"b\",\"a\",\"b\"],[\"b\",\"a\",\"b\",\"a\",\"b\",\"a\",\"b\",\"a\",\"b\",\"a\"],[\"a\",\"b\",\"a\",\"b\",\"a\",\"b\",\"a\",\"b\",\"a\",\"b\"]]\n",
    "# words = [\"ababababaa\",\"ababababab\",\"ababababac\",\"ababababad\",\"ababababae\",\"ababababaf\",\"ababababag\",\"ababababah\",\"ababababai\",\"ababababaj\",\"ababababak\",\"ababababal\",\"ababababam\",\"ababababan\",\"ababababao\",\"ababababap\",\"ababababaq\",\"ababababar\",\"ababababas\",\"ababababat\",\"ababababau\",\"ababababav\",\"ababababaw\",\"ababababax\",\"ababababay\",\"ababababaz\",\"ababababba\",\"ababababbb\",\"ababababbc\",\"ababababbd\",\"ababababbe\",\"ababababbf\",\"ababababbg\",\"ababababbh\",\"ababababbi\",\"ababababbj\",\"ababababbk\",\"ababababbl\",\"ababababbm\",\"ababababbn\",\"ababababbo\",\"ababababbp\",\"ababababbq\",\"ababababbr\",\"ababababbs\",\"ababababbt\",\"ababababbu\",\"ababababbv\",\"ababababbw\",\"ababababbx\",\"ababababby\",\"ababababbz\",\"ababababca\",\"ababababcb\",\"ababababcc\",\"ababababcd\",\"ababababce\",\"ababababcf\",\"ababababcg\",\"ababababch\",\"ababababci\",\"ababababcj\",\"ababababck\",\"ababababcl\",\"ababababcm\",\"ababababcn\",\"ababababco\",\"ababababcp\",\"ababababcq\",\"ababababcr\",\"ababababcs\",\"ababababct\",\"ababababcu\",\"ababababcv\",\"ababababcw\",\"ababababcx\",\"ababababcy\",\"ababababcz\",\"ababababda\",\"ababababdb\",\"ababababdc\",\"ababababdd\",\"ababababde\",\"ababababdf\",\"ababababdg\",\"ababababdh\",\"ababababdi\",\"ababababdj\",\"ababababdk\",\"ababababdl\",\"ababababdm\",\"ababababdn\",\"ababababdo\",\"ababababdp\",\"ababababdq\",\"ababababdr\",\"ababababds\",\"ababababdt\",\"ababababdu\",\"ababababdv\",\"ababababdw\",\"ababababdx\",\"ababababdy\",\"ababababdz\",\"ababababea\",\"ababababeb\",\"ababababec\",\"ababababed\",\"ababababee\",\"ababababef\",\"ababababeg\",\"ababababeh\",\"ababababei\",\"ababababej\",\"ababababek\",\"ababababel\",\"ababababem\",\"ababababen\",\"ababababeo\",\"ababababep\",\"ababababeq\",\"ababababer\",\"ababababes\",\"ababababet\",\"ababababeu\",\"ababababev\",\"ababababew\",\"ababababex\",\"ababababey\",\"ababababez\",\"ababababfa\",\"ababababfb\",\"ababababfc\",\"ababababfd\",\"ababababfe\",\"ababababff\",\"ababababfg\",\"ababababfh\",\"ababababfi\",\"ababababfj\",\"ababababfk\",\"ababababfl\",\"ababababfm\",\"ababababfn\",\"ababababfo\",\"ababababfp\",\"ababababfq\",\"ababababfr\",\"ababababfs\",\"ababababft\",\"ababababfu\",\"ababababfv\",\"ababababfw\",\"ababababfx\",\"ababababfy\",\"ababababfz\",\"ababababga\",\"ababababgb\",\"ababababgc\",\"ababababgd\",\"ababababge\",\"ababababgf\",\"ababababgg\",\"ababababgh\",\"ababababgi\",\"ababababgj\",\"ababababgk\",\"ababababgl\",\"ababababgm\",\"ababababgn\",\"ababababgo\",\"ababababgp\",\"ababababgq\",\"ababababgr\",\"ababababgs\",\"ababababgt\",\"ababababgu\",\"ababababgv\",\"ababababgw\",\"ababababgx\",\"ababababgy\",\"ababababgz\",\"ababababha\",\"ababababhb\",\"ababababhc\",\"ababababhd\",\"ababababhe\",\"ababababhf\",\"ababababhg\",\"ababababhh\",\"ababababhi\",\"ababababhj\",\"ababababhk\",\"ababababhl\",\"ababababhm\",\"ababababhn\",\"ababababho\",\"ababababhp\",\"ababababhq\",\"ababababhr\",\"ababababhs\",\"ababababht\",\"ababababhu\",\"ababababhv\",\"ababababhw\",\"ababababhx\",\"ababababhy\",\"ababababhz\",\"ababababia\",\"ababababib\",\"ababababic\",\"ababababid\",\"ababababie\",\"ababababif\",\"ababababig\",\"ababababih\",\"ababababii\",\"ababababij\",\"ababababik\",\"ababababil\",\"ababababim\",\"ababababin\",\"ababababio\",\"ababababip\",\"ababababiq\",\"ababababir\",\"ababababis\",\"ababababit\",\"ababababiu\",\"ababababiv\",\"ababababiw\",\"ababababix\",\"ababababiy\",\"ababababiz\",\"ababababja\",\"ababababjb\",\"ababababjc\",\"ababababjd\",\"ababababje\",\"ababababjf\",\"ababababjg\",\"ababababjh\",\"ababababji\",\"ababababjj\",\"ababababjk\",\"ababababjl\",\"ababababjm\",\"ababababjn\",\"ababababjo\",\"ababababjp\",\"ababababjq\",\"ababababjr\",\"ababababjs\",\"ababababjt\",\"ababababju\",\"ababababjv\",\"ababababjw\",\"ababababjx\",\"ababababjy\",\"ababababjz\",\"ababababka\",\"ababababkb\",\"ababababkc\",\"ababababkd\",\"ababababke\",\"ababababkf\",\"ababababkg\",\"ababababkh\",\"ababababki\",\"ababababkj\",\"ababababkk\",\"ababababkl\",\"ababababkm\",\"ababababkn\",\"ababababko\",\"ababababkp\",\"ababababkq\",\"ababababkr\",\"ababababks\",\"ababababkt\",\"ababababku\",\"ababababkv\",\"ababababkw\",\"ababababkx\",\"ababababky\",\"ababababkz\",\"ababababla\",\"abababablb\",\"abababablc\",\"ababababld\",\"abababable\",\"abababablf\",\"abababablg\",\"abababablh\",\"ababababli\",\"abababablj\",\"abababablk\",\"ababababll\",\"abababablm\",\"ababababln\",\"abababablo\",\"abababablp\",\"abababablq\",\"abababablr\",\"ababababls\",\"abababablt\",\"abababablu\",\"abababablv\",\"abababablw\",\"abababablx\",\"abababably\",\"abababablz\",\"ababababma\",\"ababababmb\",\"ababababmc\",\"ababababmd\",\"ababababme\",\"ababababmf\",\"ababababmg\",\"ababababmh\",\"ababababmi\",\"ababababmj\",\"ababababmk\",\"ababababml\",\"ababababmm\",\"ababababmn\",\"ababababmo\",\"ababababmp\",\"ababababmq\",\"ababababmr\",\"ababababms\",\"ababababmt\",\"ababababmu\",\"ababababmv\",\"ababababmw\",\"ababababmx\",\"ababababmy\",\"ababababmz\",\"ababababna\",\"ababababnb\",\"ababababnc\",\"ababababnd\",\"ababababne\",\"ababababnf\",\"ababababng\",\"ababababnh\",\"ababababni\",\"ababababnj\",\"ababababnk\",\"ababababnl\",\"ababababnm\",\"ababababnn\",\"ababababno\",\"ababababnp\",\"ababababnq\",\"ababababnr\",\"ababababns\",\"ababababnt\",\"ababababnu\",\"ababababnv\",\"ababababnw\",\"ababababnx\",\"ababababny\",\"ababababnz\",\"ababababoa\",\"ababababob\",\"ababababoc\",\"ababababod\",\"ababababoe\",\"ababababof\",\"ababababog\",\"ababababoh\",\"ababababoi\",\"ababababoj\",\"ababababok\",\"ababababol\",\"ababababom\",\"ababababon\",\"ababababoo\",\"ababababop\",\"ababababoq\",\"ababababor\",\"ababababos\",\"ababababot\",\"ababababou\",\"ababababov\",\"ababababow\",\"ababababox\",\"ababababoy\",\"ababababoz\",\"ababababpa\",\"ababababpb\",\"ababababpc\",\"ababababpd\",\"ababababpe\",\"ababababpf\",\"ababababpg\",\"ababababph\",\"ababababpi\",\"ababababpj\",\"ababababpk\",\"ababababpl\",\"ababababpm\",\"ababababpn\",\"ababababpo\",\"ababababpp\",\"ababababpq\",\"ababababpr\",\"ababababps\",\"ababababpt\",\"ababababpu\",\"ababababpv\",\"ababababpw\",\"ababababpx\",\"ababababpy\",\"ababababpz\",\"ababababqa\",\"ababababqb\",\"ababababqc\",\"ababababqd\",\"ababababqe\",\"ababababqf\",\"ababababqg\",\"ababababqh\",\"ababababqi\",\"ababababqj\",\"ababababqk\",\"ababababql\",\"ababababqm\",\"ababababqn\",\"ababababqo\",\"ababababqp\",\"ababababqq\",\"ababababqr\",\"ababababqs\",\"ababababqt\",\"ababababqu\",\"ababababqv\",\"ababababqw\",\"ababababqx\",\"ababababqy\",\"ababababqz\",\"ababababra\",\"ababababrb\",\"ababababrc\",\"ababababrd\",\"ababababre\",\"ababababrf\",\"ababababrg\",\"ababababrh\",\"ababababri\",\"ababababrj\",\"ababababrk\",\"ababababrl\",\"ababababrm\",\"ababababrn\",\"ababababro\",\"ababababrp\",\"ababababrq\",\"ababababrr\",\"ababababrs\",\"ababababrt\",\"ababababru\",\"ababababrv\",\"ababababrw\",\"ababababrx\",\"ababababry\",\"ababababrz\",\"ababababsa\",\"ababababsb\",\"ababababsc\",\"ababababsd\",\"ababababse\",\"ababababsf\",\"ababababsg\",\"ababababsh\",\"ababababsi\",\"ababababsj\",\"ababababsk\",\"ababababsl\",\"ababababsm\",\"ababababsn\",\"ababababso\",\"ababababsp\",\"ababababsq\",\"ababababsr\",\"ababababss\",\"ababababst\",\"ababababsu\",\"ababababsv\",\"ababababsw\",\"ababababsx\",\"ababababsy\",\"ababababsz\",\"ababababta\",\"ababababtb\",\"ababababtc\",\"ababababtd\",\"ababababte\",\"ababababtf\",\"ababababtg\",\"ababababth\",\"ababababti\",\"ababababtj\",\"ababababtk\",\"ababababtl\",\"ababababtm\",\"ababababtn\",\"ababababto\",\"ababababtp\",\"ababababtq\",\"ababababtr\",\"ababababts\",\"ababababtt\",\"ababababtu\",\"ababababtv\",\"ababababtw\",\"ababababtx\",\"ababababty\",\"ababababtz\",\"ababababua\",\"ababababub\",\"ababababuc\",\"ababababud\",\"ababababue\",\"ababababuf\",\"ababababug\",\"ababababuh\",\"ababababui\",\"ababababuj\",\"ababababuk\",\"ababababul\",\"ababababum\",\"ababababun\",\"ababababuo\",\"ababababup\",\"ababababuq\",\"ababababur\",\"ababababus\",\"ababababut\",\"ababababuu\",\"ababababuv\",\"ababababuw\",\"ababababux\",\"ababababuy\",\"ababababuz\",\"ababababva\",\"ababababvb\",\"ababababvc\",\"ababababvd\",\"ababababve\",\"ababababvf\",\"ababababvg\",\"ababababvh\",\"ababababvi\",\"ababababvj\",\"ababababvk\",\"ababababvl\",\"ababababvm\",\"ababababvn\",\"ababababvo\",\"ababababvp\",\"ababababvq\",\"ababababvr\",\"ababababvs\",\"ababababvt\",\"ababababvu\",\"ababababvv\",\"ababababvw\",\"ababababvx\",\"ababababvy\",\"ababababvz\",\"ababababwa\",\"ababababwb\",\"ababababwc\",\"ababababwd\",\"ababababwe\",\"ababababwf\",\"ababababwg\",\"ababababwh\",\"ababababwi\",\"ababababwj\",\"ababababwk\",\"ababababwl\",\"ababababwm\",\"ababababwn\",\"ababababwo\",\"ababababwp\",\"ababababwq\",\"ababababwr\",\"ababababws\",\"ababababwt\",\"ababababwu\",\"ababababwv\",\"ababababww\",\"ababababwx\",\"ababababwy\",\"ababababwz\",\"ababababxa\",\"ababababxb\",\"ababababxc\",\"ababababxd\",\"ababababxe\",\"ababababxf\",\"ababababxg\",\"ababababxh\",\"ababababxi\",\"ababababxj\",\"ababababxk\",\"ababababxl\",\"ababababxm\",\"ababababxn\",\"ababababxo\",\"ababababxp\",\"ababababxq\",\"ababababxr\",\"ababababxs\",\"ababababxt\",\"ababababxu\",\"ababababxv\",\"ababababxw\",\"ababababxx\",\"ababababxy\",\"ababababxz\",\"ababababya\",\"ababababyb\",\"ababababyc\",\"ababababyd\",\"ababababye\",\"ababababyf\",\"ababababyg\",\"ababababyh\",\"ababababyi\",\"ababababyj\",\"ababababyk\",\"ababababyl\",\"ababababym\",\"ababababyn\",\"ababababyo\",\"ababababyp\",\"ababababyq\",\"ababababyr\",\"ababababys\",\"ababababyt\",\"ababababyu\",\"ababababyv\",\"ababababyw\",\"ababababyx\",\"ababababyy\",\"ababababyz\",\"ababababza\",\"ababababzb\",\"ababababzc\",\"ababababzd\",\"ababababze\",\"ababababzf\",\"ababababzg\",\"ababababzh\",\"ababababzi\",\"ababababzj\",\"ababababzk\",\"ababababzl\",\"ababababzm\",\"ababababzn\",\"ababababzo\",\"ababababzp\",\"ababababzq\",\"ababababzr\",\"ababababzs\",\"ababababzt\",\"ababababzu\",\"ababababzv\",\"ababababzw\",\"ababababzx\",\"ababababzy\",\"ababababzz\"]\n",
    "\n",
    "book = Trie()\n",
    "for row in board:\n",
    "    book.insert(letters=row)\n",
    "\n",
    "print([word for word in words if book.search(word)])\n",
    "json.dumps(book.as_dict())"
   ]
  },
  {
   "cell_type": "code",
   "execution_count": null,
   "metadata": {},
   "outputs": [],
   "source": [
    "from trie import BetterTrie\n",
    "\n",
    "\n",
    "book = BetterTrie()\n",
    "book.insert(\"Harward\")\n",
    "book.insert(\"Honey\")\n",
    "print(f'honey in book: {book.search(\"honey\")}')\n",
    "print(f'book in book: {book.search(\"book\")}')\n",
    "print(f'hon in book: {book.starts_with(\"hon\")}')\n",
    "print(f'apt in book: {book.starts_with(\"apt\")}')"
   ]
  },
  {
   "cell_type": "code",
   "execution_count": 1,
   "metadata": {},
   "outputs": [
    {
     "name": "stdout",
     "output_type": "stream",
     "text": [
      "inserting: app\n",
      "inserting: apple\n",
      "inserting: beer\n",
      "inserting: add\n",
      "inserting: jam\n",
      "inserting: rental\n",
      "word in trie: False\n",
      "word in trie: True\n",
      "word in trie: False\n",
      "word in trie: False\n",
      "word in trie: False\n",
      "word in trie: False\n",
      "word in trie: False\n",
      "word in trie: True\n",
      "word in trie: True\n",
      "starts with apps in trie: False\n",
      "starts with app in trie: False\n",
      "starts with ad in trie: False\n",
      "starts with applepie in trie: False\n",
      "starts with rest in trie: False\n",
      "starts with jan in trie: False\n",
      "starts with rent in trie: False\n",
      "starts with beer in trie: False\n",
      "starts with jam in trie: False\n"
     ]
    }
   ],
   "source": [
    "from trie import BetterTrie\n",
    "\n",
    "trie: BetterTrie = None\n",
    "actions = [\"Trie\",\"insert\",\"insert\",\"insert\",\"insert\",\"insert\",\"insert\",\"search\",\"search\",\"search\",\"search\",\"search\",\"search\",\"search\",\"search\",\"search\",\"startsWith\",\"startsWith\",\"startsWith\",\"startsWith\",\"startsWith\",\"startsWith\",\"startsWith\",\"startsWith\",\"startsWith\"]\n",
    "words = [[],[\"app\"],[\"apple\"],[\"beer\"],[\"add\"],[\"jam\"],[\"rental\"],[\"apps\"],[\"app\"],[\"ad\"],[\"applepie\"],[\"rest\"],[\"jan\"],[\"rent\"],[\"beer\"],[\"jam\"],[\"apps\"],[\"app\"],[\"ad\"],[\"applepie\"],[\"rest\"],[\"jan\"],[\"rent\"],[\"beer\"],[\"jam\"]]\n",
    "\n",
    "for index, action in enumerate(actions):\n",
    "    word = words[index]\n",
    "    \n",
    "    if action == \"Trie\":\n",
    "        trie = BetterTrie()\n",
    "    \n",
    "    elif action == \"insert\":\n",
    "        trie.insert(word[0])\n",
    "    \n",
    "    elif action == \"search\":\n",
    "        print(f\"word in trie: {trie.search(word[0])}\")\n",
    "\n",
    "    elif action == \"startsWith\":\n",
    "        print(f\"starts with {word[0]} in trie: {trie.starts_with(word)}\")"
   ]
  },
  {
   "cell_type": "code",
   "execution_count": 2,
   "metadata": {},
   "outputs": [
    {
     "data": {
      "text/plain": [
       "'{\"a\": {\"p\": \"p\", \"d\": \"d\"}, \"b\": {\"e\": {\"e\": \"r\"}}, \"j\": {\"a\": \"m\"}, \"r\": {\"e\": {\"n\": {\"t\": {\"a\": \"l\"}}}}}'"
      ]
     },
     "execution_count": 2,
     "metadata": {},
     "output_type": "execute_result"
    }
   ],
   "source": [
    "trie.as_json()"
   ]
  },
  {
   "cell_type": "code",
   "execution_count": null,
   "metadata": {},
   "outputs": [],
   "source": []
  }
 ],
 "metadata": {
  "kernelspec": {
   "display_name": "Python 3",
   "language": "python",
   "name": "python3"
  },
  "language_info": {
   "codemirror_mode": {
    "name": "ipython",
    "version": 3
   },
   "file_extension": ".py",
   "mimetype": "text/x-python",
   "name": "python",
   "nbconvert_exporter": "python",
   "pygments_lexer": "ipython3",
   "version": "3.11.4"
  }
 },
 "nbformat": 4,
 "nbformat_minor": 2
}
